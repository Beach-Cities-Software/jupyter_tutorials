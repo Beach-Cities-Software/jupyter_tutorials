{
 "cells": [
  {
   "cell_type": "markdown",
   "metadata": {},
   "source": [
    "## Define parameters and variables"
   ]
  },
  {
   "cell_type": "code",
   "execution_count": 22,
   "metadata": {},
   "outputs": [],
   "source": [
    "## period length in ms\n",
    "periodLengthMS = 1500\n",
    "\n",
    "## sample rate in µs\n",
    "sampleRateUS = 1000\n",
    "\n",
    "## test/train ratio\n",
    "trainDataRatio = 0.7\n",
    "trainDataAbs = 100*trainDataRatio\n"
   ]
  },
  {
   "cell_type": "markdown",
   "metadata": {},
   "source": [
    "## Import neccesary helper modules"
   ]
  },
  {
   "cell_type": "code",
   "execution_count": 2,
   "metadata": {},
   "outputs": [],
   "source": [
    "#import neccessary modules\n",
    "import json\n",
    "import pandas as pd\n",
    "import seaborn as sns\n",
    "import matplotlib.pyplot as plt\n",
    "import numpy as np\n",
    "import pickle\n",
    "import gc"
   ]
  },
  {
   "cell_type": "code",
   "execution_count": 3,
   "metadata": {},
   "outputs": [],
   "source": [
    "import random\n",
    "import statistics\n",
    "import matplotlib.cm as cm\n",
    "%matplotlib inline"
   ]
  },
  {
   "cell_type": "code",
   "execution_count": 4,
   "metadata": {},
   "outputs": [],
   "source": [
    "# helper functions\n",
    "from timeseries_helpers import datasetstorer\n",
    "from timeseries_helpers import dataset_importer\n",
    "from timeseries_helpers import database_importer\n",
    "from timeseries_helpers import standardizer"
   ]
  },
  {
   "cell_type": "code",
   "execution_count": 5,
   "metadata": {},
   "outputs": [],
   "source": [
    "# plotting functions\n",
    "from timeseries_helpers import timeseries_plotter"
   ]
  },
  {
   "cell_type": "code",
   "execution_count": 6,
   "metadata": {},
   "outputs": [],
   "source": [
    "# tsfresh modules (for feature extraction)\n",
    "from tsfresh import extract_features, extract_relevant_features, select_features\n",
    "from tsfresh.utilities.dataframe_functions import impute\n",
    "from tsfresh.feature_extraction.settings import ComprehensiveFCParameters, MinimalFCParameters, EfficientFCParameters\n",
    "\n",
    "import logging\n",
    "# Set logger-level to \"error\". Not recommed: Important warnings can be overseen\n",
    "logging.basicConfig(level=logging.ERROR)"
   ]
  },
  {
   "cell_type": "markdown",
   "metadata": {},
   "source": [
    "## Import ML Algorithm modules"
   ]
  },
  {
   "cell_type": "code",
   "execution_count": 35,
   "metadata": {},
   "outputs": [],
   "source": [
    "# import machine learning algorithms\n",
    "from sklearn.svm import SVC\n",
    "from sklearn import svm\n",
    "from sklearn.linear_model import LogisticRegression\n",
    "from sklearn.neighbors import KNeighborsClassifier\n",
    "from sklearn.ensemble import RandomForestClassifier\n",
    "\n",
    "from sklearn.metrics import accuracy_score"
   ]
  },
  {
   "cell_type": "markdown",
   "metadata": {},
   "source": [
    "# New functions for classification module"
   ]
  },
  {
   "cell_type": "code",
   "execution_count": 23,
   "metadata": {},
   "outputs": [],
   "source": [
    "def prepareDataset(datasetPath,periodLengthInMS, sampleRateInUS, exportToCSV=False):\n",
    "    \"\"\"Reads the original (JSON) Dataset and prepares it for get used by the ML algorithms.\"\"\"\n",
    "    with open(datasetPath, 'r') as f:\n",
    "        jsnDataset = json.load(f)\n",
    "    ds_orig = database_importer.jsonData_to_dataset_in_timedifference_us(data=jsnDataset)\n",
    "    ds_equalPeriod = standardizer.normate_dataset_period(periodLengthInMS,sampleRateInUS,ds_orig[:5])\n",
    "    ds = standardizer.change_strings_to_numbs(ds_equalPeriod)\n",
    "    ds_equalPeriod = []\n",
    "    ds_orig = []\n",
    "    if exportToCSV:\n",
    "        fileName = r\"dataset_periodMS\" + str(periodLengthInMS)+\"_sampleUS\"+str(sampleRateInUS)+\".csv\";\n",
    "        datasetstorer.export_list_of_dataframes_to_csv(ds,fileName)\n",
    "    return ds"
   ]
  },
  {
   "cell_type": "code",
   "execution_count": 24,
   "metadata": {},
   "outputs": [],
   "source": [
    "def listToDataframe(dataSet):\n",
    "    df_list = []\n",
    "    for idx,e in enumerate(dataSet):\n",
    "        df = e.assign(punch_id=idx)\n",
    "        df_list.append(df)\n",
    "    df_res = pd.concat(df_list)\n",
    "    df_allInOne = df_res.reset_index(drop=True)\n",
    "    ds = df_allInOne.rename(index=str, columns={\"x\": \"a_x\", \"y\": \"a_y\", \"z\":\"a_z\"})\n",
    "    return ds"
   ]
  },
  {
   "cell_type": "code",
   "execution_count": 13,
   "metadata": {},
   "outputs": [],
   "source": [
    "def train_test_split(dataFrame,predictionColumn,trainsize,seed=5):\n",
    "    \"\"\"Returns an array of lists containing a list of the punch indizes to train and test. First list element: train dataset. Second list element: test dataset\n",
    "           arg 1: dataFrame as dataframe object\n",
    "           arg 2: trainsize as percentage of training data. e.g. 0.7\n",
    "           arg3: seed . optional, for same results of random values at multiple test\"\"\"\n",
    "    result = False\n",
    "    if predictionColumn == 'label' or predictionColumn == 'annotator' or predictionColumn == 'hand':\n",
    "        punchIdx = dataFrame['punch_id'].unique()\n",
    "        random.seed(seed)\n",
    "        data = dataFrame.copy()\n",
    "        punchIdx = data['punch_id'].unique()\n",
    "        list_in_cpy = punchIdx[:]\n",
    "        random.shuffle(list_in_cpy)\n",
    "        n = len(list_in_cpy)\n",
    "        idx_train = list_in_cpy[:round(n*trainsize)]\n",
    "        idx_test =  list_in_cpy[round(n*trainsize):]\n",
    "        train_ds = data[data['punch_id'].isin(idx_train)]\n",
    "        test_ds = data[data['punch_id'].isin(idx_test)]\n",
    "\n",
    "        test_dataset_unique_label_id = test_ds.drop_duplicates(subset='punch_id', keep='first', inplace=False)\n",
    "        y_test = pd.Series(data=test_dataset_unique_label_id[predictionColumn])\n",
    "        train_dataset_unique_label_id = train_ds.drop_duplicates(subset='punch_id', keep='first', inplace=False)\n",
    "        y_train = pd.Series(data=train_dataset_unique_label_id[predictionColumn])\n",
    "        result = [train_ds.reset_index(drop=True),test_ds.reset_index(drop=True),y_train,y_test]\n",
    "    else:\n",
    "        print('Error: Chosen predictionColumn not valid! Accepted: label, annotator or hand.')\n",
    "    return result"
   ]
  },
  {
   "cell_type": "code",
   "execution_count": 26,
   "metadata": {},
   "outputs": [],
   "source": [
    "def get_train_test_ratio(dataSet, column = 'label'):\n",
    "    \"\"\"Returns the ratio of timeseries of the chosen prediction column as a pandas.core.series.Series\"\"\"\n",
    "    return dataSet[column].value_counts()"
   ]
  },
  {
   "cell_type": "code",
   "execution_count": null,
   "metadata": {},
   "outputs": [],
   "source": []
  },
  {
   "cell_type": "code",
   "execution_count": 27,
   "metadata": {},
   "outputs": [],
   "source": [
    "def extractFeatures(dataSetToExtractFrom,feature_settings=\"minimal\"):\n",
    "    dataset_for_extraction = dataSetToExtractFrom.drop(columns=['label','hand','annotator'])\n",
    "    \n",
    "    if feature_settings == \"minimal\":\n",
    "        extractedFeatures = MinimalFCParameters();\n",
    "    elif feature_settings == \"maximal\":\n",
    "        extractedFeatures = ComprehensiveFCParameters();\n",
    "    elif feature_settings == \"findBest\":\n",
    "        extractedFeatures = EfficientFCParameters();\n",
    "    else:\n",
    "        extractedFeatures = MinimalFCParameters();\n",
    "    extracted_featureset = extract_features(dataset_for_extraction, column_id=\"punch_id\",column_sort=\"timestamp\", impute_function=impute, default_fc_parameters = extractedFeatures);\n",
    "    return extracted_featureset"
   ]
  },
  {
   "cell_type": "code",
   "execution_count": 1,
   "metadata": {},
   "outputs": [],
   "source": [
    "def get_available_classifier_labels():\n",
    "    return ['Linear SVC (ovr)','Standard SVC', 'Logsitic Regression', 'KNN', 'Random Forest'];"
   ]
  },
  {
   "cell_type": "code",
   "execution_count": 2,
   "metadata": {},
   "outputs": [],
   "source": [
    "def predict(X_train, y_train, X_test, y_test,estimators= 100,KNNneighbors=5):\n",
    "    accuracy_scores = np.zeros(len(get_available_classifier_labels()))\n",
    "    clf_labels = get_available_classifier_labels()\n",
    "    # Linear Support Vector classifier\n",
    "    linSupp_Vectr_clf = svm.LinearSVC()\n",
    "    linSupp_Vectr_clf.fit(X_train, y_train) \n",
    "    prediction = linSupp_Vectr_clf.predict(X_test)\n",
    "    accuracy_scores[0] = accuracy_score(y_test, prediction)*100\n",
    "    print('Linear Vector Classifier accuracy (one-vs-rest): {}%'.format(accuracy_scores[0]))\n",
    "    # Support Vector Classifier\n",
    "    stdSupp_Vectr_clf = SVC().fit(X_train, y_train)\n",
    "    prediction = stdSupp_Vectr_clf.predict(X_test)\n",
    "    accuracy_scores[1] = accuracy_score(y_test, prediction)*100\n",
    "    print('Support Vector Classifier accuracy: {}%'.format(accuracy_scores[1]))\n",
    "    # Logistic Regression\n",
    "    logistic_reggr_clf = LogisticRegression().fit(X_train, y_train)\n",
    "    prediction = logistic_reggr_clf.predict(X_test)\n",
    "    accuracy_scores[2] = accuracy_score(y_test, prediction)*100\n",
    "    print('Logistic Regression accuracy: {}%'.format(accuracy_scores[2]))\n",
    "    # K Nearest Neighbors\n",
    "    knn_clf = KNeighborsClassifier(n_neighbors=KNNneighbors).fit(X_train, y_train)\n",
    "    prediction = knn_clf.predict(X_test)\n",
    "    accuracy_scores[3] = accuracy_score(y_test, prediction)*100\n",
    "    print('K Nearest Neighbors Classifier accuracy: {}%'.format(accuracy_scores[3]))\n",
    "    # Random Forest\n",
    "    rndm_forest_clf = RandomForestClassifier(n_estimators = estimators).fit(X_train, y_train)\n",
    "    prediction = rndm_forest_clf.predict(X_test)\n",
    "    accuracy_scores[4] = accuracy_score(y_test, prediction)*100\n",
    "    print('Random Forest Classifier accuracy: {}%'.format(accuracy_scores[4]))\n",
    "    return [accuracy_scores,[linSupp_Vectr_clf,stdSupp_Vectr_clf,logistic_reggr_clf,knn_clf,rndm_forest_clf]]"
   ]
  },
  {
   "cell_type": "code",
   "execution_count": 3,
   "metadata": {},
   "outputs": [],
   "source": [
    "def print_prediction_results(classifier_labels,acc_scores,plotTitle,xLabel='Classifiers',yLabel='Accuracy'):\n",
    "    colors = cm.rainbow(np.linspace(0, 1, 4))\n",
    "    plt.figure(figsize=(20,10))\n",
    "    plt.bar(classifier_labels,\n",
    "            acc_scores,\n",
    "            color = colors)\n",
    "    plt.xlabel(xLabel)\n",
    "    plt.ylabel(yLabel)\n",
    "    plt.title(plotTitle)"
   ]
  },
  {
   "cell_type": "code",
   "execution_count": null,
   "metadata": {},
   "outputs": [],
   "source": []
  },
  {
   "cell_type": "code",
   "execution_count": null,
   "metadata": {},
   "outputs": [],
   "source": []
  },
  {
   "cell_type": "code",
   "execution_count": null,
   "metadata": {},
   "outputs": [],
   "source": []
  },
  {
   "cell_type": "markdown",
   "metadata": {},
   "source": [
    "# Test the new functions"
   ]
  },
  {
   "cell_type": "code",
   "execution_count": 28,
   "metadata": {},
   "outputs": [],
   "source": [
    "ds_loaded = prepareDataset('../../Datasets/Raw_Data/complete_smartpunch_dataset_7606punches.json',periodLengthMS,sampleRateUS,False)"
   ]
  },
  {
   "cell_type": "code",
   "execution_count": 29,
   "metadata": {},
   "outputs": [],
   "source": [
    "ds_loaded = listToDataframe(ds_loaded)"
   ]
  },
  {
   "cell_type": "code",
   "execution_count": 30,
   "metadata": {},
   "outputs": [
    {
     "data": {
      "text/html": [
       "<div>\n",
       "<style scoped>\n",
       "    .dataframe tbody tr th:only-of-type {\n",
       "        vertical-align: middle;\n",
       "    }\n",
       "\n",
       "    .dataframe tbody tr th {\n",
       "        vertical-align: top;\n",
       "    }\n",
       "\n",
       "    .dataframe thead th {\n",
       "        text-align: right;\n",
       "    }\n",
       "</style>\n",
       "<table border=\"1\" class=\"dataframe\">\n",
       "  <thead>\n",
       "    <tr style=\"text-align: right;\">\n",
       "      <th></th>\n",
       "      <th>a_x</th>\n",
       "      <th>a_y</th>\n",
       "      <th>a_z</th>\n",
       "      <th>timestamp</th>\n",
       "      <th>label</th>\n",
       "      <th>hand</th>\n",
       "      <th>annotator</th>\n",
       "      <th>punch_id</th>\n",
       "    </tr>\n",
       "  </thead>\n",
       "  <tbody>\n",
       "    <tr>\n",
       "      <th>0</th>\n",
       "      <td>6.7932233810424805</td>\n",
       "      <td>-2.383251428604126</td>\n",
       "      <td>2.9623143672943115</td>\n",
       "      <td>0</td>\n",
       "      <td>1</td>\n",
       "      <td>0</td>\n",
       "      <td>0</td>\n",
       "      <td>0</td>\n",
       "    </tr>\n",
       "    <tr>\n",
       "      <th>1</th>\n",
       "      <td>6.689701513074261</td>\n",
       "      <td>-2.6512779830073976</td>\n",
       "      <td>3.1807217824529057</td>\n",
       "      <td>1000</td>\n",
       "      <td>1</td>\n",
       "      <td>0</td>\n",
       "      <td>0</td>\n",
       "      <td>0</td>\n",
       "    </tr>\n",
       "    <tr>\n",
       "      <th>2</th>\n",
       "      <td>6.601797580718994</td>\n",
       "      <td>-2.871387243270874</td>\n",
       "      <td>3.3595230579376216</td>\n",
       "      <td>2000</td>\n",
       "      <td>1</td>\n",
       "      <td>0</td>\n",
       "      <td>0</td>\n",
       "      <td>0</td>\n",
       "    </tr>\n",
       "    <tr>\n",
       "      <th>3</th>\n",
       "      <td>6.5283193465743645</td>\n",
       "      <td>-3.04752244332295</td>\n",
       "      <td>3.502028963241094</td>\n",
       "      <td>3000</td>\n",
       "      <td>1</td>\n",
       "      <td>0</td>\n",
       "      <td>0</td>\n",
       "      <td>0</td>\n",
       "    </tr>\n",
       "    <tr>\n",
       "      <th>4</th>\n",
       "      <td>6.468074573238054</td>\n",
       "      <td>-3.1836268170920206</td>\n",
       "      <td>3.6115502678559537</td>\n",
       "      <td>4000</td>\n",
       "      <td>1</td>\n",
       "      <td>0</td>\n",
       "      <td>0</td>\n",
       "      <td>0</td>\n",
       "    </tr>\n",
       "  </tbody>\n",
       "</table>\n",
       "</div>"
      ],
      "text/plain": [
       "                  a_x                  a_y                 a_z  timestamp  \\\n",
       "0  6.7932233810424805   -2.383251428604126  2.9623143672943115          0   \n",
       "1   6.689701513074261  -2.6512779830073976  3.1807217824529057       1000   \n",
       "2   6.601797580718994   -2.871387243270874  3.3595230579376216       2000   \n",
       "3  6.5283193465743645    -3.04752244332295   3.502028963241094       3000   \n",
       "4   6.468074573238054  -3.1836268170920206  3.6115502678559537       4000   \n",
       "\n",
       "   label  hand  annotator  punch_id  \n",
       "0      1     0          0         0  \n",
       "1      1     0          0         0  \n",
       "2      1     0          0         0  \n",
       "3      1     0          0         0  \n",
       "4      1     0          0         0  "
      ]
     },
     "execution_count": 30,
     "metadata": {},
     "output_type": "execute_result"
    }
   ],
   "source": [
    "ds_ready.head(5)"
   ]
  },
  {
   "cell_type": "markdown",
   "metadata": {},
   "source": [
    "## Create y_train and y_test for predicting: \"label\""
   ]
  },
  {
   "cell_type": "code",
   "execution_count": 15,
   "metadata": {},
   "outputs": [
    {
     "ename": "NameError",
     "evalue": "name 'ds_ready' is not defined",
     "output_type": "error",
     "traceback": [
      "\u001b[0;31m---------------------------------------------------------------------------\u001b[0m",
      "\u001b[0;31mNameError\u001b[0m                                 Traceback (most recent call last)",
      "\u001b[0;32m<ipython-input-15-9abf13ee37a8>\u001b[0m in \u001b[0;36m<module>\u001b[0;34m\u001b[0m\n\u001b[0;32m----> 1\u001b[0;31m \u001b[0mmixedPunches\u001b[0m \u001b[0;34m=\u001b[0m \u001b[0mtrain_test_split\u001b[0m\u001b[0;34m(\u001b[0m\u001b[0;34m'label'\u001b[0m\u001b[0;34m,\u001b[0m\u001b[0mds_ready\u001b[0m\u001b[0;34m,\u001b[0m\u001b[0mtrainDataRatio\u001b[0m\u001b[0;34m,\u001b[0m\u001b[0mseed\u001b[0m\u001b[0;34m=\u001b[0m\u001b[0;36m5\u001b[0m\u001b[0;34m)\u001b[0m\u001b[0;34m\u001b[0m\u001b[0;34m\u001b[0m\u001b[0m\n\u001b[0m\u001b[1;32m      2\u001b[0m \u001b[0mtrain_dataset\u001b[0m \u001b[0;34m=\u001b[0m \u001b[0mmixedPunches\u001b[0m\u001b[0;34m[\u001b[0m\u001b[0;36m0\u001b[0m\u001b[0;34m]\u001b[0m\u001b[0;34m\u001b[0m\u001b[0;34m\u001b[0m\u001b[0m\n\u001b[1;32m      3\u001b[0m \u001b[0mtest_dataset\u001b[0m \u001b[0;34m=\u001b[0m \u001b[0mmixedPunches\u001b[0m\u001b[0;34m[\u001b[0m\u001b[0;36m1\u001b[0m\u001b[0;34m]\u001b[0m\u001b[0;34m\u001b[0m\u001b[0;34m\u001b[0m\u001b[0m\n\u001b[1;32m      4\u001b[0m \u001b[0my_train\u001b[0m \u001b[0;34m=\u001b[0m \u001b[0mmixedPunches\u001b[0m\u001b[0;34m[\u001b[0m\u001b[0;36m2\u001b[0m\u001b[0;34m]\u001b[0m\u001b[0;34m\u001b[0m\u001b[0;34m\u001b[0m\u001b[0m\n\u001b[1;32m      5\u001b[0m \u001b[0my_test\u001b[0m \u001b[0;34m=\u001b[0m \u001b[0mmixedPunches\u001b[0m\u001b[0;34m[\u001b[0m\u001b[0;36m3\u001b[0m\u001b[0;34m]\u001b[0m\u001b[0;34m\u001b[0m\u001b[0;34m\u001b[0m\u001b[0m\n",
      "\u001b[0;31mNameError\u001b[0m: name 'ds_ready' is not defined"
     ]
    }
   ],
   "source": [
    "mixedPunches = train_test_split(ds_ready,'label',trainDataRatio,seed=5)\n",
    "train_dataset = mixedPunches[0]\n",
    "test_dataset = mixedPunches[1]\n",
    "y_train = mixedPunches[2]\n",
    "y_test = mixedPunches[3]"
   ]
  },
  {
   "cell_type": "code",
   "execution_count": 32,
   "metadata": {},
   "outputs": [],
   "source": [
    "train_ratio = get_train_test_ratio(train_dataset)\n",
    "test_ratio = get_train_test_ratio(train_dataset)"
   ]
  },
  {
   "cell_type": "code",
   "execution_count": 33,
   "metadata": {},
   "outputs": [
    {
     "name": "stdout",
     "output_type": "stream",
     "text": [
      "1    6004\n",
      "Name: label, dtype: int64\n"
     ]
    }
   ],
   "source": [
    "print(train_ratio)"
   ]
  },
  {
   "cell_type": "markdown",
   "metadata": {},
   "source": [
    "## Feature extraction"
   ]
  },
  {
   "cell_type": "code",
   "execution_count": 34,
   "metadata": {},
   "outputs": [
    {
     "name": "stderr",
     "output_type": "stream",
     "text": [
      "Feature Extraction: 100%|██████████| 3/3 [00:00<00:00, 41.86it/s]\n"
     ]
    }
   ],
   "source": [
    "X_test = extractFeatures(test_dataset,feature_settings='minimal')"
   ]
  },
  {
   "cell_type": "code",
   "execution_count": null,
   "metadata": {},
   "outputs": [],
   "source": [
    "X_train = extractFeatures(train_dataset,feature_settings='minimal')"
   ]
  },
  {
   "cell_type": "markdown",
   "metadata": {},
   "source": [
    "## Prediction/Classification of: \"label\""
   ]
  },
  {
   "cell_type": "code",
   "execution_count": null,
   "metadata": {},
   "outputs": [],
   "source": [
    "generalResult = predict(X_train,y_train,X_test,y_test)\n",
    "label_accuracy_scores = generalResult[0]\n",
    "label_classifier = generalResult[1]\n",
    "print_prediction_results(get_available_classifier_labels,label_accuracy_scores,'Accuracy overview for label prediction')"
   ]
  },
  {
   "cell_type": "code",
   "execution_count": null,
   "metadata": {},
   "outputs": [],
   "source": []
  },
  {
   "cell_type": "code",
   "execution_count": null,
   "metadata": {},
   "outputs": [],
   "source": []
  },
  {
   "cell_type": "markdown",
   "metadata": {},
   "source": [
    "# Keep on going beyond"
   ]
  },
  {
   "cell_type": "code",
   "execution_count": null,
   "metadata": {},
   "outputs": [],
   "source": []
  },
  {
   "cell_type": "code",
   "execution_count": null,
   "metadata": {},
   "outputs": [],
   "source": []
  },
  {
   "cell_type": "code",
   "execution_count": null,
   "metadata": {},
   "outputs": [],
   "source": []
  },
  {
   "cell_type": "code",
   "execution_count": null,
   "metadata": {},
   "outputs": [],
   "source": []
  },
  {
   "cell_type": "markdown",
   "metadata": {},
   "source": [
    "## Hand label prediction"
   ]
  },
  {
   "cell_type": "code",
   "execution_count": null,
   "metadata": {},
   "outputs": [],
   "source": [
    "train_dataset = mixedPunches[0]\n",
    "test_dataset = mixedPunches[1]"
   ]
  },
  {
   "cell_type": "code",
   "execution_count": null,
   "metadata": {},
   "outputs": [],
   "source": [
    "# try to use the minimal feature settings\n",
    "settings_minimal = MinimalFCParameters() # only a few basic features\n",
    "settings_minimal"
   ]
  },
  {
   "cell_type": "code",
   "execution_count": null,
   "metadata": {},
   "outputs": [],
   "source": [
    "# extract features for test dataset\n",
    "testds_for_extraction = test_dataset.drop(columns=['label','hand','annotator'])\n",
    "test_dataset_extracted = extract_features(testds_for_extraction, column_id=\"punch_id\",column_sort=\"timestamp\", impute_function=impute, default_fc_parameters = settings_minimal);"
   ]
  },
  {
   "cell_type": "code",
   "execution_count": null,
   "metadata": {},
   "outputs": [],
   "source": [
    "# extract features for train dataset\n",
    "trainds_for_extraction = train_dataset.drop(columns=['label','hand','annotator'])\n",
    "train_dataset_extracted = extract_features(trainds_for_extraction, column_id=\"punch_id\",column_sort=\"timestamp\", impute_function=impute, default_fc_parameters = settings_minimal);"
   ]
  },
  {
   "cell_type": "code",
   "execution_count": null,
   "metadata": {},
   "outputs": [],
   "source": [
    "test_dataset_unique_label_id = test_dataset.drop_duplicates(subset='punch_id', keep='first', inplace=False)\n",
    "test_dataset_unique_label_id.head()"
   ]
  },
  {
   "cell_type": "code",
   "execution_count": null,
   "metadata": {},
   "outputs": [],
   "source": [
    "y_test = pd.Series(data=test_dataset_unique_label_id['hand'])"
   ]
  },
  {
   "cell_type": "code",
   "execution_count": null,
   "metadata": {},
   "outputs": [],
   "source": [
    "train_dataset_unique_label_id = train_dataset.drop_duplicates(subset='punch_id', keep='first', inplace=False)\n",
    "train_dataset_unique_label_id.head()"
   ]
  },
  {
   "cell_type": "code",
   "execution_count": null,
   "metadata": {},
   "outputs": [],
   "source": [
    "y_train = pd.Series(data=train_dataset_unique_label_id['hand'])\n",
    "y_train.head()"
   ]
  },
  {
   "cell_type": "code",
   "execution_count": null,
   "metadata": {},
   "outputs": [],
   "source": [
    "X_train = train_dataset_extracted\n",
    "X_test = test_dataset_extracted"
   ]
  },
  {
   "cell_type": "markdown",
   "metadata": {},
   "source": [
    "# Classification part"
   ]
  },
  {
   "cell_type": "code",
   "execution_count": null,
   "metadata": {},
   "outputs": [],
   "source": [
    "accuracy_scores_for_hand = np.zeros(5)\n",
    "clf_for_hand = ['Linear SVC (ovr)','Standard SVC', 'Logsitic Regression', 'KNN', 'Random Forest']"
   ]
  },
  {
   "cell_type": "code",
   "execution_count": null,
   "metadata": {},
   "outputs": [],
   "source": [
    "linSupp_Vectr_clf_hand = svm.LinearSVC()\n",
    "linSupp_Vectr_clf_hand.fit(X_train, y_train) \n",
    "prediction = linSupp_Vectr_clf_hand.predict(X_test)\n",
    "accuracy_scores_for_hand[0] = accuracy_score(y_test, prediction)*100\n",
    "print('Linear Vector Classifier accuracy (one-vs-rest): {}%'.format(accuracy_scores_for_hand[0]))"
   ]
  },
  {
   "cell_type": "code",
   "execution_count": null,
   "metadata": {},
   "outputs": [],
   "source": [
    "# Support Vector Classifier\n",
    "stdSupp_Vectr_clf_hand = SVC().fit(X_train, y_train)\n",
    "prediction = stdSupp_Vectr_clf_hand.predict(X_test)\n",
    "accuracy_scores_for_hand[1] = accuracy_score(y_test, prediction)*100\n",
    "print('Support Vector Classifier accuracy: {}%'.format(accuracy_scores_for_hand[1]))"
   ]
  },
  {
   "cell_type": "code",
   "execution_count": null,
   "metadata": {},
   "outputs": [],
   "source": [
    "# Logistic Regression\n",
    "logistic_reggr_clf_hand = LogisticRegression().fit(X_train, y_train)\n",
    "prediction = logistic_reggr_clf_hand.predict(X_test)\n",
    "accuracy_scores_for_hand[2] = accuracy_score(y_test, prediction)*100\n",
    "print('Logistic Regression accuracy: {}%'.format(accuracy_scores_for_hand[2]))"
   ]
  },
  {
   "cell_type": "code",
   "execution_count": null,
   "metadata": {},
   "outputs": [],
   "source": [
    "# K Nearest Neighbors\n",
    "knn_clf_hand = KNeighborsClassifier(n_neighbors=5)\n",
    "knn_clf_hand.fit(X_train, y_train)\n",
    "prediction = knn_clf_hand.predict(X_test)\n",
    "accuracy_scores_for_hand[3] = accuracy_score(y_test, prediction)*100\n",
    "print('K Nearest Neighbors Classifier accuracy: {}%'.format(accuracy_scores_for_hand[3]))"
   ]
  },
  {
   "cell_type": "code",
   "execution_count": null,
   "metadata": {},
   "outputs": [],
   "source": [
    "# Random Forest\n",
    "rndm_forest_clf_hand = RandomForestClassifier(n_estimators = 100)\n",
    "rndm_forest_clf_hand.fit(X_train, y_train)\n",
    "prediction = rndm_forest_clf_hand.predict(X_test)\n",
    "accuracy_scores_for_hand[4] = accuracy_score(y_test, prediction)*100\n",
    "print('Random Forest Classifier accuracy: {}%'.format(accuracy_scores_for_hand[4]))"
   ]
  },
  {
   "cell_type": "markdown",
   "metadata": {},
   "source": [
    "## Visualization of the classifier accuracy for hand prediction"
   ]
  },
  {
   "cell_type": "code",
   "execution_count": null,
   "metadata": {},
   "outputs": [],
   "source": [
    "colors = cm.rainbow(np.linspace(0, 1, 4))\n",
    "plt.figure(figsize=(20,10))\n",
    "plt.bar(clf_for_hand,\n",
    "        accuracy_scores_for_hand,\n",
    "        color = colors)\n",
    "plt.xlabel('Classifiers')\n",
    "plt.ylabel('Accuracy')\n",
    "plt.title('Accuracy overview for hand-prediction')"
   ]
  },
  {
   "cell_type": "markdown",
   "metadata": {},
   "source": [
    "## Prediction of the annotator name"
   ]
  },
  {
   "cell_type": "code",
   "execution_count": null,
   "metadata": {},
   "outputs": [],
   "source": [
    "train_dataset = mixedPunches[0]\n",
    "test_dataset = mixedPunches[1]"
   ]
  },
  {
   "cell_type": "code",
   "execution_count": null,
   "metadata": {},
   "outputs": [],
   "source": [
    "# try to use the minimal feature settings\n",
    "settings_minimal = MinimalFCParameters() # only a few basic features\n",
    "settings_minimal"
   ]
  },
  {
   "cell_type": "code",
   "execution_count": null,
   "metadata": {},
   "outputs": [],
   "source": [
    "# extract features for test dataset\n",
    "testds_for_extraction = test_dataset.drop(columns=['label','hand','annotator'])\n",
    "test_dataset_extracted = extract_features(testds_for_extraction, column_id=\"punch_id\",column_sort=\"timestamp\", impute_function=impute, default_fc_parameters = settings_minimal);"
   ]
  },
  {
   "cell_type": "code",
   "execution_count": null,
   "metadata": {},
   "outputs": [],
   "source": [
    "# extract features for train dataset\n",
    "trainds_for_extraction = train_dataset.drop(columns=['label','hand','annotator'])\n",
    "train_dataset_extracted = extract_features(trainds_for_extraction, column_id=\"punch_id\",column_sort=\"timestamp\", impute_function=impute, default_fc_parameters = settings_minimal);"
   ]
  },
  {
   "cell_type": "code",
   "execution_count": null,
   "metadata": {},
   "outputs": [],
   "source": [
    "test_dataset_unique_label_id = test_dataset.drop_duplicates(subset='punch_id', keep='first', inplace=False)\n",
    "test_dataset_unique_label_id.head()"
   ]
  },
  {
   "cell_type": "code",
   "execution_count": null,
   "metadata": {},
   "outputs": [],
   "source": [
    "y_test = pd.Series(data=test_dataset_unique_label_id['annotator'])"
   ]
  },
  {
   "cell_type": "code",
   "execution_count": null,
   "metadata": {},
   "outputs": [],
   "source": [
    "train_dataset_unique_label_id = train_dataset.drop_duplicates(subset='punch_id', keep='first', inplace=False)\n",
    "train_dataset_unique_label_id.head()"
   ]
  },
  {
   "cell_type": "code",
   "execution_count": null,
   "metadata": {},
   "outputs": [],
   "source": [
    "y_train = pd.Series(data=train_dataset_unique_label_id['annotator'])\n",
    "y_train.head()"
   ]
  },
  {
   "cell_type": "code",
   "execution_count": null,
   "metadata": {},
   "outputs": [],
   "source": [
    "X_train = train_dataset_extracted\n",
    "X_test = test_dataset_extracted"
   ]
  },
  {
   "cell_type": "markdown",
   "metadata": {},
   "source": [
    "# Classification part for annotator name"
   ]
  },
  {
   "cell_type": "code",
   "execution_count": null,
   "metadata": {},
   "outputs": [],
   "source": [
    "accuracy_scores_for_subject = np.zeros(5)\n",
    "clf_for_subject = ['Linear SVC (ovr)','Standard SVC', 'Logsitic Regression', 'KNN', 'Random Forest']\n",
    "linSupp_Vectr_clf_annotator = svm.LinearSVC().fit(X_train, y_train) \n",
    "prediction = linSupp_Vectr_clf_annotator.predict(X_test)\n",
    "accuracy_scores_for_subject[0] = accuracy_score(y_test, prediction)*100\n",
    "print('Linear Vector Classifier accuracy (one-vs-rest): {}%'.format(accuracy_scores_for_subject[0]))"
   ]
  },
  {
   "cell_type": "code",
   "execution_count": null,
   "metadata": {},
   "outputs": [],
   "source": [
    "# Support Vector Classifier\n",
    "stdSupp_Vectr_clf_annotator = SVC().fit(X_train, y_train)\n",
    "prediction = stdSupp_Vectr_clf_annotator.predict(X_test)\n",
    "accuracy_scores_for_subject[1] = accuracy_score(y_test, prediction)*100\n",
    "print('Support Vector Classifier accuracy: {}%'.format(accuracy_scores_for_subject[1]))"
   ]
  },
  {
   "cell_type": "code",
   "execution_count": null,
   "metadata": {},
   "outputs": [],
   "source": [
    "# Logistic Regression\n",
    "logistic_reggr_clf_annotator = LogisticRegression().fit(X_train, y_train)\n",
    "prediction = logistic_reggr_clf_annotator.predict(X_test)\n",
    "accuracy_scores_for_subject[2] = accuracy_score(y_test, prediction)*100\n",
    "print('Logistic Regression accuracy: {}%'.format(accuracy_scores_for_subject[2]))"
   ]
  },
  {
   "cell_type": "code",
   "execution_count": null,
   "metadata": {},
   "outputs": [],
   "source": [
    "# K Nearest Neighbors\n",
    "knn_clf_annotator = KNeighborsClassifier(n_neighbors=5).fit(X_train, y_train)\n",
    "prediction = knn_clf_annotator.predict(X_test)\n",
    "accuracy_scores_for_subject[3] = accuracy_score(y_test, prediction)*100\n",
    "print('K Nearest Neighbors Classifier accuracy: {}%'.format(accuracy_scores_for_subject[3]))"
   ]
  },
  {
   "cell_type": "code",
   "execution_count": null,
   "metadata": {},
   "outputs": [],
   "source": [
    "# Random Forest\n",
    "rndm_forest_clf_annotator = RandomForestClassifier(n_estimators = 50).fit(X_train, y_train)\n",
    "prediction = rndm_forest_clf_annotator.predict(X_test)\n",
    "accuracy_scores_for_subject[4] = accuracy_score(y_test, prediction)*100\n",
    "print('Random Forest Classifier accuracy: {}%'.format(accuracy_scores_for_subject[4]))"
   ]
  },
  {
   "cell_type": "markdown",
   "metadata": {},
   "source": [
    "## Print classifier accuracy for annotator prediction"
   ]
  },
  {
   "cell_type": "code",
   "execution_count": null,
   "metadata": {},
   "outputs": [],
   "source": [
    "colors = cm.rainbow(np.linspace(0, 1, 4))\n",
    "plt.figure(figsize=(20,10))\n",
    "plt.bar(clf_for_subject,\n",
    "        accuracy_scores_for_subject,\n",
    "        color = colors)\n",
    "plt.xlabel('Classifiers')\n",
    "plt.ylabel('Accuracy')\n",
    "plt.title('Accuracy overview for annotator prediction')"
   ]
  },
  {
   "cell_type": "markdown",
   "metadata": {},
   "source": [
    "# Save the created models"
   ]
  },
  {
   "cell_type": "markdown",
   "metadata": {},
   "source": [
    "## Store the models for the punch classification"
   ]
  },
  {
   "cell_type": "markdown",
   "metadata": {},
   "source": [
    "### Linear SVC"
   ]
  },
  {
   "cell_type": "code",
   "execution_count": null,
   "metadata": {},
   "outputs": [],
   "source": [
    "pkl_filename = \"model_linSupp_Vectr_clf_punchtype_periodMS\" + str(periodLengthMS)+\"_sampleUS\"+str(sampleRateUS)+\"_TrainSize\"+str(trainDataAbs)+\".pkl\"  \n",
    "with open(pkl_filename, 'wb') as file:  \n",
    "    pickle.dump(linSupp_Vectr_clf_punchtype, file)"
   ]
  },
  {
   "cell_type": "markdown",
   "metadata": {},
   "source": [
    "### Standard SVC"
   ]
  },
  {
   "cell_type": "code",
   "execution_count": null,
   "metadata": {},
   "outputs": [],
   "source": [
    "pkl_filename = \"model_stdSupp_Vectr_clf_punchtype_periodMS\" + str(periodLengthMS)+\"_sampleUS\"+str(sampleRateUS)+\"_TrainSize\"+str(trainDataAbs)+\".pkl\"  \n",
    "with open(pkl_filename, 'wb') as file:  \n",
    "    pickle.dump(stdSupp_Vectr_clf_punchtype, file)"
   ]
  },
  {
   "cell_type": "markdown",
   "metadata": {},
   "source": [
    "### Logistic Regression"
   ]
  },
  {
   "cell_type": "code",
   "execution_count": null,
   "metadata": {},
   "outputs": [],
   "source": [
    "pkl_filename = \"model_logistic_reggr_clf_punchtype_periodMS\" + str(periodLengthMS)+\"_sampleUS\"+str(sampleRateUS)+\"_TrainSize\"+str(trainDataAbs)+\".pkl\"  \n",
    "with open(pkl_filename, 'wb') as file:  \n",
    "    pickle.dump(logistic_reggr_clf_punchtype, file)"
   ]
  },
  {
   "cell_type": "markdown",
   "metadata": {},
   "source": [
    "### KNN"
   ]
  },
  {
   "cell_type": "code",
   "execution_count": null,
   "metadata": {},
   "outputs": [],
   "source": [
    "pkl_filename = \"model_knn_clf_punchtype_periodMS\" + str(periodLengthMS)+\"_sampleUS\"+str(sampleRateUS)+\"_TrainSize\"+str(trainDataAbs)+\".pkl\"  \n",
    "with open(pkl_filename, 'wb') as file:  \n",
    "    pickle.dump(knn_clf_punchtype, file)"
   ]
  },
  {
   "cell_type": "markdown",
   "metadata": {},
   "source": [
    "### Random Forest"
   ]
  },
  {
   "cell_type": "code",
   "execution_count": null,
   "metadata": {},
   "outputs": [],
   "source": [
    "pkl_filename = \"model_rndm_forest_clf_punchtype_periodMS\" + str(periodLengthMS)+\"_sampleUS\"+str(sampleRateUS)+\"_TrainSize\"+str(trainDataAbs)+\".pkl\"  \n",
    "with open(pkl_filename, 'wb') as file:  \n",
    "    pickle.dump(rndm_forest_clf_punchtype, file)"
   ]
  },
  {
   "cell_type": "markdown",
   "metadata": {},
   "source": [
    "## Store the models for the hand classification"
   ]
  },
  {
   "cell_type": "markdown",
   "metadata": {},
   "source": [
    "### Linear SVC"
   ]
  },
  {
   "cell_type": "code",
   "execution_count": null,
   "metadata": {},
   "outputs": [],
   "source": [
    "pkl_filename = \"model_linSupp_Vectr_clf_hand_periodMS\" + str(periodLengthMS)+\"_sampleUS\"+str(sampleRateUS)+\"_TrainSize\"+str(trainDataAbs)+\".pkl\"  \n",
    "with open(pkl_filename, 'wb') as file:  \n",
    "    pickle.dump(linSupp_Vectr_clf_hand, file)"
   ]
  },
  {
   "cell_type": "markdown",
   "metadata": {},
   "source": [
    "### Standard SVC"
   ]
  },
  {
   "cell_type": "code",
   "execution_count": null,
   "metadata": {},
   "outputs": [],
   "source": [
    "pkl_filename = \"model_stdSupp_Vectr_clf_hand_periodMS\" + str(periodLengthMS)+\"_sampleUS\"+str(sampleRateUS)+\"_TrainSize\"+str(trainDataAbs)+\".pkl\"  \n",
    "with open(pkl_filename, 'wb') as file:  \n",
    "    pickle.dump(stdSupp_Vectr_clf_hand, file)"
   ]
  },
  {
   "cell_type": "markdown",
   "metadata": {},
   "source": [
    "### Logistic Regression"
   ]
  },
  {
   "cell_type": "code",
   "execution_count": null,
   "metadata": {},
   "outputs": [],
   "source": [
    "pkl_filename = \"model_logistic_reggr_clf_hand_periodMS\" + str(periodLengthMS)+\"_sampleUS\"+str(sampleRateUS)+\"_TrainSize\"+str(trainDataAbs)+\".pkl\"  \n",
    "with open(pkl_filename, 'wb') as file:  \n",
    "    pickle.dump(logistic_reggr_clf_hand, file)"
   ]
  },
  {
   "cell_type": "markdown",
   "metadata": {},
   "source": [
    "### KNN"
   ]
  },
  {
   "cell_type": "code",
   "execution_count": null,
   "metadata": {},
   "outputs": [],
   "source": [
    "pkl_filename = \"model_knn_clf_hand_periodMS\" + str(periodLengthMS)+\"_sampleUS\"+str(sampleRateUS)+\"_TrainSize\"+str(trainDataAbs)+\".pkl\"  \n",
    "with open(pkl_filename, 'wb') as file:  \n",
    "    pickle.dump(knn_clf_hand, file)"
   ]
  },
  {
   "cell_type": "markdown",
   "metadata": {},
   "source": [
    "### Random Forest"
   ]
  },
  {
   "cell_type": "code",
   "execution_count": null,
   "metadata": {},
   "outputs": [],
   "source": [
    "pkl_filename = \"model_rndm_forest_clf_hand_periodMS\" + str(periodLengthMS)+\"_sampleUS\"+str(sampleRateUS)+\"_TrainSize\"+str(trainDataAbs)+\".pkl\"  \n",
    "with open(pkl_filename, 'wb') as file:  \n",
    "    pickle.dump(rndm_forest_clf_hand, file)"
   ]
  },
  {
   "cell_type": "markdown",
   "metadata": {},
   "source": [
    "## Store the models for the annotator classification"
   ]
  },
  {
   "cell_type": "markdown",
   "metadata": {},
   "source": [
    "### Linear SVC"
   ]
  },
  {
   "cell_type": "code",
   "execution_count": null,
   "metadata": {},
   "outputs": [],
   "source": [
    "pkl_filename = \"model_linSupp_Vectr_clf_annotator_periodMS\" + str(periodLengthMS)+\"_sampleUS\"+str(sampleRateUS)+\"_TrainSize\"+str(trainDataAbs)+\".pkl\"    \n",
    "with open(pkl_filename, 'wb') as file:  \n",
    "    pickle.dump(linSupp_Vectr_clf_annotator, file)"
   ]
  },
  {
   "cell_type": "markdown",
   "metadata": {},
   "source": [
    "### Standard SVC"
   ]
  },
  {
   "cell_type": "code",
   "execution_count": null,
   "metadata": {},
   "outputs": [],
   "source": [
    "pkl_filename = \"model_stdSupp_Vectr_clf_annotator_periodMS\" + str(periodLengthMS)+\"_sampleUS\"+str(sampleRateUS)+\"_TrainSize\"+str(trainDataAbs)+\".pkl\"    \n",
    "with open(pkl_filename, 'wb') as file:  \n",
    "    pickle.dump(stdSupp_Vectr_clf_annotator, file)"
   ]
  },
  {
   "cell_type": "markdown",
   "metadata": {},
   "source": [
    "### Logistic Regression"
   ]
  },
  {
   "cell_type": "code",
   "execution_count": null,
   "metadata": {},
   "outputs": [],
   "source": [
    "pkl_filename = \"model_logistic_reggr_clf_annotator_periodMS\" + str(periodLengthMS)+\"_sampleUS\"+str(sampleRateUS)+\"_TrainSize\"+str(trainDataAbs)+\".pkl\"  \n",
    "with open(pkl_filename, 'wb') as file:  \n",
    "    pickle.dump(logistic_reggr_clf_annotator, file)"
   ]
  },
  {
   "cell_type": "markdown",
   "metadata": {},
   "source": [
    "### KNN"
   ]
  },
  {
   "cell_type": "code",
   "execution_count": null,
   "metadata": {},
   "outputs": [],
   "source": [
    "pkl_filename = \"model_knn_clf_annotator_periodMS\" + str(periodLengthMS)+\"_sampleUS\"+str(sampleRateUS)+\"_TrainSize\"+str(trainDataAbs)+\".pkl\"    \n",
    "with open(pkl_filename, 'wb') as file:  \n",
    "    pickle.dump(knn_clf_annotator, file)"
   ]
  },
  {
   "cell_type": "markdown",
   "metadata": {},
   "source": [
    "### Random Forest"
   ]
  },
  {
   "cell_type": "code",
   "execution_count": null,
   "metadata": {},
   "outputs": [],
   "source": [
    "pkl_filename = \"model_rndm_forest_clf_annotator_periodMS\" + str(periodLengthMS)+\"_sampleUS\"+str(sampleRateUS)+\"_TrainSize\"+str(trainDataAbs)+\".pkl\"    \n",
    "with open(pkl_filename, 'wb') as file:  \n",
    "    pickle.dump(rndm_forest_clf_annotator, file)"
   ]
  }
 ],
 "metadata": {
  "kernelspec": {
   "display_name": "Python 3",
   "language": "python",
   "name": "python3"
  },
  "language_info": {
   "codemirror_mode": {
    "name": "ipython",
    "version": 3
   },
   "file_extension": ".py",
   "mimetype": "text/x-python",
   "name": "python",
   "nbconvert_exporter": "python",
   "pygments_lexer": "ipython3",
   "version": "3.7.1"
  }
 },
 "nbformat": 4,
 "nbformat_minor": 2
}
